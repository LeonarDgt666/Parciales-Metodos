{
 "cells": [
  {
   "cell_type": "markdown",
   "metadata": {},
   "source": [
    "1. ¿Cúal es el valor de la media aritmética y de la desviación estandar de la siguiente secuencia de numeros? \n",
    "X = [64.0 54.2 65.1 58.3 55.7 60.2 62.5 67.9 66.6 55.8 59.2]\n",
    "Seleccione una:"
   ]
  },
  {
   "cell_type": "code",
   "execution_count": 2,
   "metadata": {
    "collapsed": false
   },
   "outputs": [
    {
     "name": "stdout",
     "output_type": "stream",
     "text": [
      "La media es:   60.86363636363637\n",
      "La desviacion es:   4.683646597956068\n"
     ]
    }
   ],
   "source": [
    "import math\n",
    "X=[64.0,54.2,65.1,58.3,55.7,60.2,62.5,67.9,66.6,55.8,59.2]\n",
    "sumax=0\n",
    "sumad=0\n",
    "n=11\n",
    "\n",
    "for i in range(0,11,1):\n",
    "    sumax= sumax + X[i]\n",
    "\n",
    "media= sumax/n\n",
    "\n",
    "for j in range(0,11,1):\n",
    "    sumad= sumad+(math.pow((X[j]-media),2))\n",
    "    \n",
    "desviacion=(math.sqrt(sumad/(n-1)))\n",
    "   \n",
    "\n",
    "print (\"La media es:  \",media)\n",
    "print (\"La desviacion es:  \",desviacion)"
   ]
  },
  {
   "cell_type": "markdown",
   "metadata": {},
   "source": [
    "3. Usando la regla de Cramer hallar x_1, x_2 y x_3 resolviendo el siguiente sistema de ecuaciones: 0.4 x_1 + 0.12 x_2 - 1.3 x_3 = 0.05, 0.1 x_1 - 0.24 x_2 + 2.0 x_3 = -0.32, 0.3 x_1 + 1.6 x_2 + 0.3 x_3 = 0.15\n",
    "Seleccione una:\n"
   ]
  },
  {
   "cell_type": "code",
   "execution_count": null,
   "metadata": {
    "collapsed": true
   },
   "outputs": [],
   "source": [
    "a11,a12,a13,b1=0.4,0.12,-1.3,0.05\n",
    "a21,a22,a23,b2=0.1,-0.24,2.0,-0.32\n",
    "a31,a32,a33,b3=0.3,1.6,0.3,0.15\n",
    "\n",
    "A1,A2,A3=(a22*a33-a32*a23),(a21*a33-a31*a23),(a21*a32-a31*a22)\n",
    "M11,M12,M13=(a22*a33-a32*a23),(b2*a33-b3*a23),(b2*a32-b3*a22)\n",
    "M21,M22,M23=(b2*a33-b3*a23),(a21*a33-a31*a23),(a21*b3-a31*b2)\n",
    "M31,M32,M33=(a22*b3-a32*b2),(a21*b3-a31*b2),(a21*a32-a31*a22)\n",
    "determinante=(a11*A1-a12*A2+a13*A3)\n",
    "determinanteM1=(b1*M11-a12*M12+a13*M13)\n",
    "determinanteM2=(a11*M21-b1*M22+a13*M23)\n",
    "determinanteM3=(a11*M31-a12*M32+b1*M33)\n",
    "\n",
    "print (\"{0:5}{1:5}\".format(\"X1 =\",round(determinanteM1/determinante,8)));\n",
    "print (\"{0:5}{1:5}\".format(\"X2 =\",round(determinanteM2/determinante,8)));\n",
    "print (\"{0:5}{1:5}\".format(\"X3 =\",round(determinanteM3/determinante,8)));"
   ]
  },
  {
   "cell_type": "markdown",
   "metadata": {},
   "source": [
    "5. Calcule e^x para x = 3 mediante interpolación lineal tomando x_0 = 1, f(x_0) = e^1 y x_1 = 5, f(x_1) = e^5\n",
    "Seleccione una:"
   ]
  },
  {
   "cell_type": "code",
   "execution_count": 4,
   "metadata": {
    "collapsed": false
   },
   "outputs": [
    {
     "name": "stdout",
     "output_type": "stream",
     "text": [
      "El valor de f(x) =  75.56572046551781\n"
     ]
    }
   ],
   "source": [
    "import math\n",
    "fX0=math.exp(1)\n",
    "fX1=math.exp(5)\n",
    "X0=1\n",
    "X1=5\n",
    "X=3\n",
    "Inter_lineal=fX0+((fX1-fX0)/(X1-X0))*(X-X0)\n",
    "print (\"El valor de f(x) = \" , Inter_lineal)"
   ]
  },
  {
   "cell_type": "markdown",
   "metadata": {},
   "source": [
    "7. Calcular f(6) de acuerdo con la ecuación de la línea recta del método de regresión linela por mínimos cuadrados a partir de los siguientes datos: X = [1,2,3,4,5] y Y = [1,2,1.30,3.75,2.25]\n",
    "Seleccione una:"
   ]
  },
  {
   "cell_type": "code",
   "execution_count": 1,
   "metadata": {
    "collapsed": false
   },
   "outputs": [
    {
     "name": "stdout",
     "output_type": "stream",
     "text": [
      "El valor de a0 es: 0.7850000000000001\n",
      "El valor de a1 es: 0.425\n",
      "y= 0.785 + 0.425 X= 3.335\n"
     ]
    }
   ],
   "source": [
    "import math\n",
    "\n",
    "X=[1, 2, 3, 4, 5]\n",
    "Y=[1, 2, 1.30, 3.75, 2.25]\n",
    "n=5\n",
    "sumaxy=0\n",
    "sumax=0\n",
    "sumay=0\n",
    "sumax2=0\n",
    "x=6\n",
    "\n",
    "for i in range(0,5,1):\n",
    "    sumaxy= sumaxy + (X[i]*Y[i])\n",
    "    sumax= sumax+ X[i]\n",
    "    sumay= sumay+ Y[i]\n",
    "    sumax2= sumax2 +(math.pow(X[i],2))\n",
    "\n",
    "a_1=(n*sumaxy-(sumax*sumay))/((n*sumax2)-math.pow(sumax,2))\n",
    "a_0=(sumay/n)-(a_1*(sumax/n))\n",
    "y=a_0+(a_1*x)\n",
    "print (\"El valor de a0 es:\",a_0)\n",
    "print (\"El valor de a1 es:\",a_1)\n",
    "print ('y=',round(a_0,3),\"+\",a_1,\"X=\",y)\n"
   ]
  },
  {
   "cell_type": "markdown",
   "metadata": {},
   "source": [
    "8. Calcule e^x para x = 3 mediante interpolación cuadrática tomando x_0 = 2, f(x_0) = e^2, x_1 = 4, f(x_1) = e^4, x_2 = 5, f(x_2) = e^5\n",
    "Seleccione una:"
   ]
  },
  {
   "cell_type": "code",
   "execution_count": 6,
   "metadata": {
    "collapsed": false
   },
   "outputs": [
    {
     "name": "stdout",
     "output_type": "stream",
     "text": [
      "El valor de f(x) para x=3 es:  7.590115698595611\n"
     ]
    }
   ],
   "source": [
    "import math\n",
    "x_0=2\n",
    "x_1=4\n",
    "x_2=5\n",
    "x=3\n",
    "\n",
    "fx_0=math.exp(2)\n",
    "fx_1=math.exp(4)\n",
    "fx_2=math.exp(5)\n",
    "\n",
    "b_0= fx_0\n",
    "b_1= ((fx_1-fx_0)/(x_1-x_0))\n",
    "b_2= (((fx_2-fx_1)/(x_2-x_1))-b_1)/(x_2-x_0)\n",
    "\n",
    "a_0 = b_0-b_1*x_0+b_2*x_0*x_1\n",
    "a_1 = b_1-b_2*x_0-b_2*x_1\n",
    "a_2 = b_2\n",
    "\n",
    "Inter_cuadratica = a_0 + a_1*x + a_2*math.pow(x,2)\n",
    "print (\"El valor de f(x) para x=3 es: \" , Inter_cuadratica)"
   ]
  },
  {
   "cell_type": "markdown",
   "metadata": {},
   "source": [
    "9. ¿Cúal es el valor del determinante para la siguiente matriz de tamaño 3x3? A = [[4, 5, 6], [11, 0, 3], [7, 9, 2]]\n",
    "Seleccione una:"
   ]
  },
  {
   "cell_type": "code",
   "execution_count": 7,
   "metadata": {
    "collapsed": false
   },
   "outputs": [
    {
     "name": "stdout",
     "output_type": "stream",
     "text": [
      "la determinante de la matriz 3x3 es:   481\n"
     ]
    }
   ],
   "source": [
    "a11,a12,a13=4, 5, 6\n",
    "a21,a22,a23=11, 0, 3\n",
    "a31,a32,a33=7, 9, 2\n",
    "\n",
    "determinante=(a11*a22*a33)+(a12*a23*a31)+(a13*a21*a32)-(a13*a22*a31)-(a12*a21*a33)-(a11*a23*a32)\n",
    "\n",
    "\n",
    "print (\"la determinante de la matriz 3x3 es:  \",determinante)\n"
   ]
  },
  {
   "cell_type": "markdown",
   "metadata": {},
   "source": [
    "10. Calcular los parámetros a_0 y a_1 de la línea recta del método de regresión lineal por mínimos cuadrados a partir de los siguientes datos: X = [1,2,3,4,5] y Y = [1,2,1.30,3.75,2.25]\n",
    "Seleccione una:"
   ]
  },
  {
   "cell_type": "code",
   "execution_count": 8,
   "metadata": {
    "collapsed": false
   },
   "outputs": [
    {
     "name": "stdout",
     "output_type": "stream",
     "text": [
      "El valor de a0 es: 0.7850000000000001\n",
      "El valor de a1 es: 0.425\n"
     ]
    }
   ],
   "source": [
    "import math\n",
    "\n",
    "X=[1, 2, 3, 4, 5]\n",
    "Y=[1, 2, 1.30, 3.75, 2.25]\n",
    "n=5\n",
    "sumaxy=0\n",
    "sumax=0\n",
    "sumay=0\n",
    "sumax2=0\n",
    "\n",
    "for i in range(0,5,1):\n",
    "    sumaxy= sumaxy + (X[i]*Y[i])\n",
    "    sumax= sumax+ X[i]\n",
    "    sumay= sumay+ Y[i]\n",
    "    sumax2= sumax2 +(math.pow(X[i],2))\n",
    "\n",
    "a_1=(n*sumaxy-(sumax*sumay))/((n*sumax2)-math.pow(sumax,2))\n",
    "a_0=(sumay/n)-(a_1*(sumax/n))\n",
    "\n",
    "print (\"El valor de a0 es:\",a_0)\n",
    "print (\"El valor de a1 es:\",a_1)"
   ]
  },
  {
   "cell_type": "markdown",
   "metadata": {},
   "source": [
    "11. Calcular el coeficiente de correlación entre los siguientes valores: X = [1,2,3,4,5] y Y = [1,2,1.30,3.75,2.25]\n",
    "Seleccione una:"
   ]
  },
  {
   "cell_type": "code",
   "execution_count": 9,
   "metadata": {
    "collapsed": false
   },
   "outputs": [
    {
     "name": "stdout",
     "output_type": "stream",
     "text": [
      "El coeficiente de correlacion entre X y Y es:   0.6268327489789575\n"
     ]
    }
   ],
   "source": [
    "X=[1, 2, 3, 4, 5]\n",
    "Y=[1, 2, 1.30, 3.75, 2.25]\n",
    "n=5\n",
    "\n",
    "sumaxy=0\n",
    "sumax=0\n",
    "sumay=0\n",
    "sumax2=0\n",
    "sumay2=0\n",
    "\n",
    "for i in range(0,5,1):\n",
    "    sumaxy= sumaxy + (X[i]*Y[i])\n",
    "    sumax= sumax+ X[i]\n",
    "    sumay= sumay+ Y[i]\n",
    "    sumax2= sumax2 +(math.pow(X[i],2))\n",
    "    sumay2= sumay2 +(math.pow(Y[i],2))\n",
    "\n",
    "num= (n*sumaxy)-(sumax*sumay)\n",
    "dem1=math.sqrt(n*sumax2-math.pow(sumax,2))\n",
    "dem2=math.sqrt(n*sumay2-math.pow(sumay,2))\n",
    "coeficiente=(num/(dem1*dem2))\n",
    "print (\"El coeficiente de correlacion entre X y Y es:  \",coeficiente)"
   ]
  },
  {
   "cell_type": "code",
   "execution_count": null,
   "metadata": {
    "collapsed": true
   },
   "outputs": [],
   "source": []
  }
 ],
 "metadata": {
  "kernelspec": {
   "display_name": "Python 3",
   "language": "python",
   "name": "python3"
  },
  "language_info": {
   "codemirror_mode": {
    "name": "ipython",
    "version": 3
   },
   "file_extension": ".py",
   "mimetype": "text/x-python",
   "name": "python",
   "nbconvert_exporter": "python",
   "pygments_lexer": "ipython3",
   "version": "3.5.1"
  }
 },
 "nbformat": 4,
 "nbformat_minor": 0
}
