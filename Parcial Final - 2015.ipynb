{
 "cells": [
  {
   "cell_type": "markdown",
   "metadata": {},
   "source": [
    "1) De acuerdo con la definición de la derivada centrada y para f(x)=4x4−2x2+7x, ¿Cúal seria el calculo de la primera derivada dado que xi−1=0, xi=0.1, xi+1=0.2?\n",
    "\n",
    "A. 6.632\n",
    "B. 6.666\n",
    "C. 6.616\n",
    "D. 0.6804\n",
    "E. 6\n",
    "\n",
    "    Rta:\n",
    "    A. 6.632"
   ]
  },
  {
   "cell_type": "code",
   "execution_count": 1,
   "metadata": {
    "collapsed": false
   },
   "outputs": [
    {
     "name": "stdout",
     "output_type": "stream",
     "text": [
      "6.632\n"
     ]
    }
   ],
   "source": [
    "def f(x):\n",
    "    return 4*x**4 - 2*x**2 + 7*x\n",
    "\n",
    "def deriv_centrada(x,h):\n",
    "    fdev = ((f(x+h) - f(x-h))/(2*h))\n",
    "    return fdev\n",
    "\n",
    "print(deriv_centrada(0.1,0.1))"
   ]
  },
  {
   "cell_type": "markdown",
   "metadata": {},
   "source": [
    "2) Calcule e^x-x para x = 2.5 mediante interpolación cuadrática tomando x_0 = 1, f(x_0) = e^1-1, x_1 = 2, f(x_1) = e^2-2, x_2 = 3, f(x_2) = e^3-3\n",
    "\n",
    "Seleccione una:\n",
    "\n",
    "A. 12.182494\n",
    "B. 10.234083\n",
    "C. 9.682494\n",
    "D. 7.590116\n",
    "E. 7.224443\n",
    "\n",
    "    Rta:\n",
    "    B. 10.234083"
   ]
  },
  {
   "cell_type": "code",
   "execution_count": 2,
   "metadata": {
    "collapsed": false
   },
   "outputs": [
    {
     "name": "stdout",
     "output_type": "stream",
     "text": [
      "El valor de f(x) para x=3 es:  10.234083191835985\n"
     ]
    }
   ],
   "source": [
    "import math\n",
    "x_0=1\n",
    "x_1=2\n",
    "x_2=3\n",
    "x=2.5\n",
    "\n",
    "fx_0=math.exp(1)-1\n",
    "fx_1=math.exp(2)-2\n",
    "fx_2=math.exp(3)-3\n",
    "\n",
    "b_0= fx_0\n",
    "b_1= ((fx_1-fx_0)/(x_1-x_0))\n",
    "b_2= (((fx_2-fx_1)/(x_2-x_1))-b_1)/(x_2-x_0)\n",
    "\n",
    "a_0 = b_0-b_1*x_0+b_2*x_0*x_1\n",
    "a_1 = b_1-b_2*x_0-b_2*x_1\n",
    "a_2 = b_2\n",
    "\n",
    "Inter_cuadratica = a_0 + a_1*x + a_2*math.pow(x,2)\n",
    "print (\"El valor de f(x) para x=3 es: \" , Inter_cuadratica)"
   ]
  },
  {
   "cell_type": "markdown",
   "metadata": {},
   "source": [
    "3) Calcule e^x para x = 5 mediante interpolación lineal tomando x_0 = 4, f(x_0) = e^4 y x_1 = 6, f(x_1) = e^6\n",
    "\n",
    "Seleccione una:\n",
    "\n",
    "A. 75.565720\n",
    "B. -119.817172\n",
    "C. 141.805811\n",
    "D. 229.013472\n",
    "E. 111.989440\n",
    "\n",
    "    Rta:\n",
    "    D. 229.013472"
   ]
  },
  {
   "cell_type": "code",
   "execution_count": 4,
   "metadata": {
    "collapsed": false
   },
   "outputs": [
    {
     "name": "stdout",
     "output_type": "stream",
     "text": [
      "El valor de f(x) =  229.01347176293967\n"
     ]
    }
   ],
   "source": [
    "import math\n",
    "fX0=math.exp(4)\n",
    "fX1=math.exp(6)\n",
    "X0=4\n",
    "X1=6\n",
    "X=5\n",
    "Inter_lineal=fX0+((fX1-fX0)/(X1-X0))*(X-X0)\n",
    "print (\"El valor de f(x) = \" , Inter_lineal)"
   ]
  },
  {
   "cell_type": "markdown",
   "metadata": {
    "collapsed": true
   },
   "source": [
    "4) ¿Cual es el coeficiente de correlacion entre el precio colombiano del dolar (D) y el euro (E) de acuerdo con el precio de los ultimos 31 dias?, D=[3073.23, 3073.23, 3073.23, 3069.24, 3108.70, 3082.04, 3047.31, 3047.31, 3047.31, 3086.82, 3074.35, 3099.75, 3099.75, 3101.10, 3101.10, 3101.10, 3142.11, 3131.95, 3166.67, 3149.12, 3179.22, 3179.22, 3179.22, 3287.03, 3287.03, 3294.02, 3259.56, 3299.36, 3299.36, 3299.36, 3356.00], E=[3299.00, 3299.00, 3299.00, 3299.00, 3274.00, 3310.50, 3318.38, 3265.10, 3265.10, 3265.10, 3266.27, 3284.49, 3265.00, 3285.65, 3289.14, 3289.14, 3289.14, 3322.19, 3318.14, 3360.00, 3425.13, 3480.12, 3480.12, 3588.51, 3588.51, 3614.41, 3561.07, 3664.00, 3664.00, 3664.00]\n",
    "\n",
    "Seleccione una:\n",
    "\n",
    "A. 0.94171\n",
    "B. 0.93312\n",
    "C. 0.93329\n",
    "D. 1\n",
    "E. 0.94194\n",
    "\n",
    "    Rta:\n",
    "    E. 0.94194"
   ]
  },
  {
   "cell_type": "code",
   "execution_count": null,
   "metadata": {
    "collapsed": true
   },
   "outputs": [],
   "source": [
    "import math\n",
    "\n",
    "D=[3073.23, 3073.23, 3073.23, 3069.24, 3108.70, 3082.04, 3047.31, 3047.31, 3047.31, 3086.82, 3074.35, 3099.75, 3099.75, 3101.10, 3101.10, 3101.10, 3142.11, 3131.95, 3166.67, 3149.12, 3179.22, 3179.22, 3179.22, 3287.03, 3287.03, 3294.02, 3259.56, 3299.36, 3299.36, 3299.36, 3356.00]\n",
    "E=[3299.00, 3299.00, 3299.00, 3299.00, 3274.00, 3310.50, 3318.38, 3265.10, 3265.10, 3265.10, 3266.27, 3284.49, 3265.00, 3285.65, 3289.14, 3289.14, 3289.14, 3322.19, 3318.14, 3360.00, 3425.13, 3480.12, 3480.12, 3480.12, 3588.51, 3588.51, 3614.41, 3561.07, 3664.00, 3664.00, 3664.00]\n",
    "\n",
    "n=31\n",
    "\n",
    "sumade=0\n",
    "sumad=0\n",
    "sumae=0\n",
    "sumad2=0\n",
    "sumae2=0\n",
    "\n",
    "for i in range(0,n,1):\n",
    "    sumade= sumade + (D[i]*E[i])\n",
    "    sumad= sumad+ D[i]\n",
    "    sumae= sumae+ E[i]\n",
    "    sumad2= sumad2 +(math.pow(D[i],2))\n",
    "    sumae2= sumae2 +(math.pow(E[i],2))\n",
    "\n",
    "num= (n*sumade)-(sumad*sumae)\n",
    "dem1=math.sqrt(n*sumad2-math.pow(sumad,2))\n",
    "dem2=math.sqrt(n*sumae2-math.pow(sumae,2))\n",
    "coeficiente=(num/(dem1*dem2))\n",
    "print (\"El coeficiente de correlacion entre Dolar y Euro es:  \",coeficiente)"
   ]
  },
  {
   "cell_type": "markdown",
   "metadata": {},
   "source": [
    "5) Usando la regla de Cramer hallar x_1, x_2 y x_3 resolviendo el siguiente sistema de ecuaciones: 0.4 x_1 + 0.12 x_2 - 1.3 x_3 = 0.05, 0.1 x_1 - 0.24 x_2 + 2.0 x_3 = -0.32, 0.3 x_1 + 1.6 x_2 + 0.3 x_3 = 0.15\n",
    "\n",
    "Seleccione una:"
   ]
  },
  {
   "cell_type": "code",
   "execution_count": 5,
   "metadata": {
    "collapsed": false
   },
   "outputs": [
    {
     "name": "stdout",
     "output_type": "stream",
     "text": [
      "X1 = -0.32601816\n",
      "X2 = 0.17782101\n",
      "X3 = -0.12236057\n"
     ]
    }
   ],
   "source": [
    "a11,a12,a13,b1=0.4,0.12,-1.3,0.05\n",
    "a21,a22,a23,b2=0.1,-0.24,2.0,-0.32\n",
    "a31,a32,a33,b3=0.3,1.6,0.3,0.15\n",
    "\n",
    "A1,A2,A3=(a22*a33-a32*a23),(a21*a33-a31*a23),(a21*a32-a31*a22)\n",
    "M11,M12,M13=(a22*a33-a32*a23),(b2*a33-b3*a23),(b2*a32-b3*a22)\n",
    "M21,M22,M23=(b2*a33-b3*a23),(a21*a33-a31*a23),(a21*b3-a31*b2)\n",
    "M31,M32,M33=(a22*b3-a32*b2),(a21*b3-a31*b2),(a21*a32-a31*a22)\n",
    "determinante=(a11*A1-a12*A2+a13*A3)\n",
    "determinanteM1=(b1*M11-a12*M12+a13*M13)\n",
    "determinanteM2=(a11*M21-b1*M22+a13*M23)\n",
    "determinanteM3=(a11*M31-a12*M32+b1*M33)\n",
    "\n",
    "print (\"{0:5}{1:5}\".format(\"X1 =\",round(determinanteM1/determinante,8)));\n",
    "print (\"{0:5}{1:5}\".format(\"X2 =\",round(determinanteM2/determinante,8)));\n",
    "print (\"{0:5}{1:5}\".format(\"X3 =\",round(determinanteM3/determinante,8)));"
   ]
  },
  {
   "cell_type": "markdown",
   "metadata": {},
   "source": [
    "6) Si se representa la velocidad de un automovil en notacion cientifica 7.290x10^4, ¿Cuantas son las cifras significativas?\n",
    "Seleccione una:\n",
    "\n",
    "A. 4\n",
    "B. 5\n",
    "C. 2\n",
    "D. 10\n",
    "E. 3\n",
    "\n",
    "    Rta:\n",
    "    A. 4"
   ]
  },
  {
   "cell_type": "markdown",
   "metadata": {},
   "source": [
    "7) Dada la función f(x)=x^3, ¿Cúal es el valor real y la aproximación de la serie de Taylor de primer orden para h=0.125, cuando se evalua para ambas (función y aproximación) en x+h, donde x=1?\n",
    "\n",
    "A. 1.423828125 y 0.95703125\n",
    "B. 1.423828125 y 1.375\n",
    "C. 3.375 y 2.5\n",
    "D. 0.001953125 y 0\n",
    "E. 1.423828125 y 1.8984375\n",
    "\n",
    "    Rta:\n",
    "    B. 1.423828125 y 1.375"
   ]
  },
  {
   "cell_type": "code",
   "execution_count": 6,
   "metadata": {
    "collapsed": false
   },
   "outputs": [
    {
     "name": "stdout",
     "output_type": "stream",
     "text": [
      "funcion =  1.423828125\n",
      "Aprox taylor =  1.375\n"
     ]
    }
   ],
   "source": [
    "def f1(x):\n",
    "    return x**3\n",
    "\n",
    "def f2(x):\n",
    "    return 3*(x**2)\n",
    "\n",
    "x = 1.0\n",
    "h = 0.125\n",
    "\n",
    "print(\"funcion = \",f1(x+h))\n",
    "print(\"Aprox taylor = \",f1(x)+f2(x)*h)"
   ]
  },
  {
   "cell_type": "markdown",
   "metadata": {},
   "source": [
    "8) Si el valor verdadero es 43.4322629 y el valor aproximado es 43.02498, ¿Cúal es el el Error Verdadero?\n",
    "\n",
    "A. 0.9377427580454216\n",
    "B. 0.40728289999999845\n",
    "C. 5.934016903777434\n",
    "D. -0.40728289999999845\n",
    "E. 0.009377427580454217\n",
    "\n",
    "    Rta:\n",
    "    B. 0.40728289999999845"
   ]
  },
  {
   "cell_type": "code",
   "execution_count": 7,
   "metadata": {
    "collapsed": false
   },
   "outputs": [
    {
     "name": "stdout",
     "output_type": "stream",
     "text": [
      "0.40728289999999845\n"
     ]
    }
   ],
   "source": [
    "# Solucion quinto punto\n",
    "# Et = valor verdadero - valor aproximado\n",
    "\n",
    "Error_Verdadero = 43.4322629-43.02498 \n",
    "print(Error_Verdadero)"
   ]
  },
  {
   "cell_type": "markdown",
   "metadata": {},
   "source": [
    "9) Dada la función f(x)=e^x-2-x, ¿Cúal es el valor de la raíz encontrado usando el método de Newton-Raphson cuando x_0=-7 y x_0=2, respectivamente? usando 6 cifras significativas. Nota: Tener como criterio de parala el error tolerado?\n",
    "\n"
   ]
  },
  {
   "cell_type": "code",
   "execution_count": 14,
   "metadata": {
    "collapsed": false
   },
   "outputs": [
    {
     "name": "stdout",
     "output_type": "stream",
     "text": [
      "Iteración: 5 Raiz (Newton-Raphson): -1.84141\n",
      "Iteración: 5 Raiz (Newton-Raphson): -1.8414056604369609\n"
     ]
    }
   ],
   "source": [
    "import math\n",
    "def f(x):\n",
    "    fval = math.exp(x)-2-x\n",
    "    return fval\n",
    "def fd(x):\n",
    "    fdval = math.exp(x)-1\n",
    "    if fdval == 0:\n",
    "        fdval = 1.0*10**(-6)\n",
    "    return fdval\n",
    "nit = 5\n",
    "it = 0\n",
    "xi = -7\n",
    "while it<=nit:\n",
    "     \n",
    "    if it == nit:\n",
    "        print('Iteración: '+str(it)+' Raiz (Newton-Raphson): '+str(round(xi,5)))\n",
    "        print('Iteración: '+str(it)+' Raiz (Newton-Raphson): '+str(xi))\n",
    "    xi = xi-(f(xi)/fd(xi))\n",
    "    if xi==0:\n",
    "        xi=1.0*10**(-6)\n",
    "    it=it+1"
   ]
  },
  {
   "cell_type": "code",
   "execution_count": 15,
   "metadata": {
    "collapsed": false
   },
   "outputs": [
    {
     "name": "stdout",
     "output_type": "stream",
     "text": [
      "Iteración: 5 Raiz (Newton-Raphson): 1.14619\n",
      "Iteración: 5 Raiz (Newton-Raphson): 1.1461932206388472\n"
     ]
    }
   ],
   "source": [
    "import math\n",
    "def f(x):\n",
    "    fval = math.exp(x)-2-x\n",
    "    return fval\n",
    "def fd(x):\n",
    "    fdval = math.exp(x)-1\n",
    "    if fdval == 0:\n",
    "        fdval = 1.0*10**(-6)\n",
    "    return fdval\n",
    "nit = 5\n",
    "it = 0\n",
    "xi = 2\n",
    "while it<=nit:\n",
    "     \n",
    "    if it == nit:\n",
    "        print('Iteración: '+str(it)+' Raiz (Newton-Raphson): '+str(round(xi,5)))\n",
    "        print('Iteración: '+str(it)+' Raiz (Newton-Raphson): '+str(xi))\n",
    "    xi = xi-(f(xi)/fd(xi))\n",
    "    if xi==0:\n",
    "        xi=1.0*10**(-6)\n",
    "    it=it+1"
   ]
  },
  {
   "cell_type": "markdown",
   "metadata": {},
   "source": [
    "10) Considere el precio del dolar en pesos colombianos de los ultimos 31 dias(ver grafica y vectores de valores) y use un modelo de regresion lineal para predecir su tendencia. De acuerdo son su modelo, ¿Cual seria el valor del dolar el dia 35?.D=[3073.23, 3073.23, 3073.23, 3069.24, 3108.70, 3082.04, 3047.31, 3047.31, 3047.31, 3086.82, 3074.35, 3099.75, 3099.75, 3101.10, 3101.10, 3101.10, 3142.11, 3131.95, 3166.67, 3149.12, 3179.22, 3179.22, 3179.22, 3287.03, 3287.03, 3294.02, 3259.56, 3299.36, 3299.36, 3299.36, 3356.00]\n",
    "\n",
    "Seleccione una:\n",
    "A. 3324.99\n",
    "B. 3324.48\n",
    "C. 3334.45\n",
    "D. 3306.06\n",
    "E. 105124.16\n",
    "\n",
    "    Rta:\n",
    "    C. 3334.45"
   ]
  },
  {
   "cell_type": "code",
   "execution_count": 13,
   "metadata": {
    "collapsed": false
   },
   "outputs": [
    {
     "name": "stdout",
     "output_type": "stream",
     "text": [
      "El valor del dolar para el dia 31 es:  3334.45\n"
     ]
    }
   ],
   "source": [
    "D=[3073.23, 3073.23, 3073.23, 3069.24, 3108.70, 3082.04, 3047.31, 3047.31, 3047.31, 3086.82, 3074.35, 3099.75, 3099.75, 3101.10, 3101.10, 3101.10, 3142.11, 3131.95, 3166.67, 3149.12, 3179.22, 3179.22, 3179.22, 3287.03, 3287.03, 3294.02, 3259.56, 3299.36, 3299.36, 3299.36, 3356.00]\n",
    "\n",
    "n=31\n",
    "x=35\n",
    "sumai=0\n",
    "sumai2=0\n",
    "sumad=0\n",
    "sumadpd=0\n",
    "\n",
    "for i in range(0,n,1):\n",
    "    sumai=sumai+(i+1)\n",
    "    sumai2=sumai2+((i+1)**2)\n",
    "    sumad=sumad+D[i]\n",
    "    sumadpd=sumadpd+(D[i]*(i+1))\n",
    "    \n",
    "a2=((n*sumai2)-(sumai)**2)\n",
    "a1=((n*sumadpd)-(sumai*sumad))/((n*sumai2)-(sumai**2))\n",
    "a0=(sumad/n)-a1*(sumai/n)\n",
    "\n",
    "y=a0+a1*x\n",
    "\n",
    "print(\"El valor del dolar para el dia\",n,\"es: \",round(y,2))"
   ]
  },
  {
   "cell_type": "markdown",
   "metadata": {},
   "source": [
    "11) ¿Cual es el valor del determinante para la siguiente matriz 4x4? A=[[2.4, 9.2, 2.3, 5.7],[1.9, 4.2, 8.4, 11.7],[0.9, 1.5, 0.25, -12.1],[13.2, 7.8, 3.4, 0.25]]\n",
    "\n",
    "Seleccione una:\n",
    "\n",
    "A. 481.0\n",
    "B. -8654.31735\n",
    "C. 9356.82305\n",
    "D. 11627.80925\n",
    "E. 11563.38345\n",
    "\n",
    "    Rta:\n",
    "    C. 9356.82305"
   ]
  },
  {
   "cell_type": "code",
   "execution_count": 19,
   "metadata": {
    "collapsed": false
   },
   "outputs": [
    {
     "name": "stdout",
     "output_type": "stream",
     "text": [
      "El determinante de la matriz 4x4 es:  9356.823049999999\n"
     ]
    }
   ],
   "source": [
    "import math\n",
    "\n",
    "a11,a12,a13,a14 = 2.4, 9.2, 2.3, 5.7\n",
    "a21,a22,a23,a24 = 1.9, 4.2, 8.4, 11.7\n",
    "a31,a32,a33,a34 = 0.9, 1.5, 0.25, -12.1\n",
    "a41,a42,a43,a44 = 13.2, 7.8, 3.4, 0.25\n",
    "\n",
    "det1=(a22*a33*a44)+(a23*a34*a42)+(a24*a32*a43)-(a42*a33*a24)-(a43*a34*a22)-(a44*a32*a23)\n",
    "det2=(a12*a33*a44)+(a13*a34*a42)+(a14*a32*a43)-(a42*a33*a14)-(a43*a34*a12)-(a44*a32*a13)\n",
    "det3=(a12*a23*a44)+(a13*a24*a42)+(a14*a22*a43)-(a42*a23*a14)-(a43*a24*a12)-(a44*a22*a13)\n",
    "det4=(a12*a23*a34)+(a13*a24*a32)+(a14*a22*a33)-(a32*a23*a14)-(a33*a24*a12)-(a34*a22*a13)\n",
    "\n",
    "determinante=(a11*math.pow(-1,2)*det1)+(a21*math.pow(-1,3)*det2)+(a31*math.pow(-1,4)*det3)+(a41*math.pow(-1,5)*det4)\n",
    "print(\"El determinante de la matriz 4x4 es: \",determinante)"
   ]
  }
 ],
 "metadata": {
  "kernelspec": {
   "display_name": "Python 3",
   "language": "python",
   "name": "python3"
  },
  "language_info": {
   "codemirror_mode": {
    "name": "ipython",
    "version": 3
   },
   "file_extension": ".py",
   "mimetype": "text/x-python",
   "name": "python",
   "nbconvert_exporter": "python",
   "pygments_lexer": "ipython3",
   "version": "3.5.1"
  }
 },
 "nbformat": 4,
 "nbformat_minor": 0
}
